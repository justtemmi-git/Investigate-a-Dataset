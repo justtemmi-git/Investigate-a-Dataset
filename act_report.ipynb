{
 "cells": [
  {
   "cell_type": "markdown",
   "metadata": {},
   "source": [
    "# WeRateDogs TWITTER ARCHIVE ACT-REPORT"
   ]
  },
  {
   "cell_type": "markdown",
   "metadata": {},
   "source": [
    "TEMITOPE IGE"
   ]
  },
  {
   "cell_type": "markdown",
   "metadata": {},
   "source": [
    "JUNE 2022"
   ]
  },
  {
   "cell_type": "markdown",
   "metadata": {},
   "source": [
    "The WeRateDogs Enhanced Twitter Archive contains over 5000+ data extracted from @dogs_rates twitter account. \n",
    "The retweet count and favourite count for each tweet was not available in the archive file but was downloaded from the twiiter account.\n",
    "I also downloaded an image prediction file from udacity server."
   ]
  },
  {
   "cell_type": "markdown",
   "metadata": {},
   "source": [
    "# DATA WRANGLING"
   ]
  },
  {
   "cell_type": "markdown",
   "metadata": {},
   "source": [
    "I wrangled the data into shape before the analysis. I assessed the data both visually and programmatically to ensure its quality and tidiness. The quality of the data was determined by the following fators; validity, accuracy, completeness and consistency.\n",
    "There were about 1954 tweets with good quality and tidiness at the end of the cleaning stage."
   ]
  },
  {
   "cell_type": "markdown",
   "metadata": {},
   "source": [
    "# INSIGHTS"
   ]
  },
  {
   "cell_type": "markdown",
   "metadata": {},
   "source": [
    "1. Favourite counts are higher than retweet counts. This is easily noticed and also the most easily identified insights. It is expected that people would more likely favourite a tweet than retweet it.... the time is shorter."
   ]
  },
  {
   "cell_type": "markdown",
   "metadata": {},
   "source": [
    "2. Theres a strong correlation between a tweet's retweet counts and favourite counts. This means that a tweet with a high favourite count is more likely to also have a high retweet count. This is shown by plotting these two values against each other in the plot below. There exist a high correlation between the two."
   ]
  },
  {
   "cell_type": "markdown",
   "metadata": {},
   "source": [
    "3. Most of the people who tweeted love Retrievers. By using the breeds of the dogs to group the tweets, there were 8 breeds in total. golden_rertriever has the highest no of tweet counts."
   ]
  }
 ],
 "metadata": {
  "kernelspec": {
   "display_name": "Python 3",
   "language": "python",
   "name": "python3"
  },
  "language_info": {
   "codemirror_mode": {
    "name": "ipython",
    "version": 3
   },
   "file_extension": ".py",
   "mimetype": "text/x-python",
   "name": "python",
   "nbconvert_exporter": "python",
   "pygments_lexer": "ipython3",
   "version": "3.6.3"
  }
 },
 "nbformat": 4,
 "nbformat_minor": 2
}
